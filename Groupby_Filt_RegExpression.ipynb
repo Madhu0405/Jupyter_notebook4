{
 "cells": [
  {
   "cell_type": "code",
   "execution_count": 1,
   "id": "40d3535b",
   "metadata": {},
   "outputs": [],
   "source": [
    "import pandas as pd"
   ]
  },
  {
   "cell_type": "code",
   "execution_count": 75,
   "id": "68574222",
   "metadata": {},
   "outputs": [
    {
     "data": {
      "text/html": [
       "<div>\n",
       "<style scoped>\n",
       "    .dataframe tbody tr th:only-of-type {\n",
       "        vertical-align: middle;\n",
       "    }\n",
       "\n",
       "    .dataframe tbody tr th {\n",
       "        vertical-align: top;\n",
       "    }\n",
       "\n",
       "    .dataframe thead th {\n",
       "        text-align: right;\n",
       "    }\n",
       "</style>\n",
       "<table border=\"1\" class=\"dataframe\">\n",
       "  <thead>\n",
       "    <tr style=\"text-align: right;\">\n",
       "      <th></th>\n",
       "      <th>Respondent</th>\n",
       "      <th>MainBranch</th>\n",
       "      <th>Hobbyist</th>\n",
       "      <th>Age</th>\n",
       "      <th>Age1stCode</th>\n",
       "      <th>CompFreq</th>\n",
       "      <th>CompTotal</th>\n",
       "      <th>ConvertedComp</th>\n",
       "      <th>Country</th>\n",
       "      <th>CurrencyDesc</th>\n",
       "      <th>...</th>\n",
       "      <th>SurveyEase</th>\n",
       "      <th>SurveyLength</th>\n",
       "      <th>Trans</th>\n",
       "      <th>UndergradMajor</th>\n",
       "      <th>WebframeDesireNextYear</th>\n",
       "      <th>WebframeWorkedWith</th>\n",
       "      <th>WelcomeChange</th>\n",
       "      <th>WorkWeekHrs</th>\n",
       "      <th>YearsCode</th>\n",
       "      <th>YearsCodePro</th>\n",
       "    </tr>\n",
       "  </thead>\n",
       "  <tbody>\n",
       "    <tr>\n",
       "      <th>0</th>\n",
       "      <td>1</td>\n",
       "      <td>I am a developer by profession</td>\n",
       "      <td>Yes</td>\n",
       "      <td>NaN</td>\n",
       "      <td>13</td>\n",
       "      <td>Monthly</td>\n",
       "      <td>NaN</td>\n",
       "      <td>NaN</td>\n",
       "      <td>Germany</td>\n",
       "      <td>European Euro</td>\n",
       "      <td>...</td>\n",
       "      <td>Neither easy nor difficult</td>\n",
       "      <td>Appropriate in length</td>\n",
       "      <td>No</td>\n",
       "      <td>Computer science, computer engineering, or sof...</td>\n",
       "      <td>ASP.NET Core</td>\n",
       "      <td>ASP.NET;ASP.NET Core</td>\n",
       "      <td>Just as welcome now as I felt last year</td>\n",
       "      <td>50.0</td>\n",
       "      <td>36</td>\n",
       "      <td>27</td>\n",
       "    </tr>\n",
       "    <tr>\n",
       "      <th>1</th>\n",
       "      <td>2</td>\n",
       "      <td>I am a developer by profession</td>\n",
       "      <td>No</td>\n",
       "      <td>NaN</td>\n",
       "      <td>19</td>\n",
       "      <td>NaN</td>\n",
       "      <td>NaN</td>\n",
       "      <td>NaN</td>\n",
       "      <td>United Kingdom</td>\n",
       "      <td>Pound sterling</td>\n",
       "      <td>...</td>\n",
       "      <td>NaN</td>\n",
       "      <td>NaN</td>\n",
       "      <td>NaN</td>\n",
       "      <td>Computer science, computer engineering, or sof...</td>\n",
       "      <td>NaN</td>\n",
       "      <td>NaN</td>\n",
       "      <td>Somewhat more welcome now than last year</td>\n",
       "      <td>NaN</td>\n",
       "      <td>7</td>\n",
       "      <td>4</td>\n",
       "    </tr>\n",
       "  </tbody>\n",
       "</table>\n",
       "<p>2 rows × 61 columns</p>\n",
       "</div>"
      ],
      "text/plain": [
       "   Respondent                      MainBranch Hobbyist  Age Age1stCode  \\\n",
       "0           1  I am a developer by profession      Yes  NaN         13   \n",
       "1           2  I am a developer by profession       No  NaN         19   \n",
       "\n",
       "  CompFreq  CompTotal  ConvertedComp         Country    CurrencyDesc  ...  \\\n",
       "0  Monthly        NaN            NaN         Germany   European Euro  ...   \n",
       "1      NaN        NaN            NaN  United Kingdom  Pound sterling  ...   \n",
       "\n",
       "                   SurveyEase           SurveyLength Trans  \\\n",
       "0  Neither easy nor difficult  Appropriate in length    No   \n",
       "1                         NaN                    NaN   NaN   \n",
       "\n",
       "                                      UndergradMajor WebframeDesireNextYear  \\\n",
       "0  Computer science, computer engineering, or sof...           ASP.NET Core   \n",
       "1  Computer science, computer engineering, or sof...                    NaN   \n",
       "\n",
       "     WebframeWorkedWith                             WelcomeChange WorkWeekHrs  \\\n",
       "0  ASP.NET;ASP.NET Core   Just as welcome now as I felt last year        50.0   \n",
       "1                   NaN  Somewhat more welcome now than last year         NaN   \n",
       "\n",
       "  YearsCode YearsCodePro  \n",
       "0        36           27  \n",
       "1         7            4  \n",
       "\n",
       "[2 rows x 61 columns]"
      ]
     },
     "execution_count": 75,
     "metadata": {},
     "output_type": "execute_result"
    }
   ],
   "source": [
    "df=pd.read_csv('Data/survey_results_public.csv')\n",
    "df.head(2)"
   ]
  },
  {
   "cell_type": "code",
   "execution_count": 88,
   "id": "40e5e60d",
   "metadata": {},
   "outputs": [
    {
     "data": {
      "text/plain": [
       "Country\n",
       "Afghanistan                              11\n",
       "Albania                                  13\n",
       "Algeria                                  40\n",
       "Andorra                                   3\n",
       "Angola                                    1\n",
       "                                       ... \n",
       "Venezuela, Bolivarian Republic of...     29\n",
       "Viet Nam                                102\n",
       "Yemen                                     1\n",
       "Zambia                                    4\n",
       "Zimbabwe                                 13\n",
       "Name: LanguageWorkedWith, Length: 183, dtype: int64"
      ]
     },
     "execution_count": 88,
     "metadata": {},
     "output_type": "execute_result"
    }
   ],
   "source": [
    "#Count of values for each country\n",
    "df['Country'].value_counts()\n",
    "\n",
    "#Filter data using one country name\n",
    "filt=df['Country']=='United States'\n",
    "df.loc[filt].head(50)\n",
    "\n",
    "#Grouping countries\n",
    "Country_grp=df.groupby(['Country'])\n",
    "Country_grp.get_group('United States')\n",
    "df.columns\n",
    "\n",
    "#Filtering\n",
    "df.loc[filt,'Ethnicity'].value_counts(normalize=True)\n",
    "\n",
    "#Country Grouping\n",
    "#Country_grp['Ethnicity'].value_counts(normalize=True).loc['United States','India'] #some error here\n",
    "\n",
    "#ConvertedComp grouping\n",
    "Country_grp['ConvertedComp'].value_counts(normalize=True)\n",
    "Country_grp['ConvertedComp'].median().loc['United States']\n",
    "Country_grp['ConvertedComp'].mean().loc['United States']\n",
    "\n",
    "#using aggregate function with grouping\n",
    "Country_grp['ConvertedComp'].agg(['mean','median'])\n",
    "\n",
    "#with language\n",
    "df.loc[filt]['LanguageWorkedWith'].str.contains('Python').sum()\n",
    "df.loc[filt]['LanguageWorkedWith'].str.contains('Python').value_counts()\n",
    "\n",
    "Country_grp['LanguageWorkedWith'].apply(lambda x:x.str.contains('Python').sum())\n"
   ]
  },
  {
   "cell_type": "code",
   "execution_count": 105,
   "id": "1a930c3b",
   "metadata": {},
   "outputs": [
    {
     "data": {
      "text/plain": [
       "United States    47.830620\n",
       "India            31.774366\n",
       "Canada           46.143314\n",
       "Mexico           33.148148\n",
       "Japan            44.444444\n",
       "China            42.587601\n",
       "dtype: float64"
      ]
     },
     "execution_count": 105,
     "metadata": {},
     "output_type": "execute_result"
    }
   ],
   "source": [
    "#% people who know Python in each country\n",
    "\n",
    "#Total number of people in each country\n",
    "Total_resp= df['Country'].value_counts()\n",
    "\n",
    "# no. of people who know python in each country\n",
    "python_ppl_by_Country=Country_grp['LanguageWorkedWith'].apply(lambda x:x.str.contains('Python').sum())\n",
    "\n",
    "#% ppl who know python in each country\n",
    "perc_python_ppl_by_country=(python_ppl_by_Country/Total_resp)*100\n",
    "\n",
    "perc_python_ppl_by_country.loc[['United States','India','Canada','Mexico','Japan','China']]\n"
   ]
  },
  {
   "cell_type": "code",
   "execution_count": 158,
   "id": "1ae137ac",
   "metadata": {},
   "outputs": [
    {
     "data": {
      "text/plain": [
       "Country\n",
       "United States     884\n",
       "India             476\n",
       "Germany           268\n",
       "United Kingdom    224\n",
       "Canada            130\n",
       "Name: DevType, dtype: int64"
      ]
     },
     "execution_count": 158,
     "metadata": {},
     "output_type": "execute_result"
    }
   ],
   "source": [
    "#Find out no. of women who are Data Scientists in each country\n",
    "#df.head(10)\n",
    "##df.columns\n",
    "\n",
    "#df['Gender'].value_counts()\n",
    "\n",
    "#Group by Country\n",
    "Country_grp=df.groupby(['Country'])\n",
    "Country_grp.get_group('United States')\n",
    "df.columns\n",
    "\n",
    "\n",
    "#Countries grouped having Data Scientist\n",
    "DSbycountry= Country_grp['DevType'].apply (lambda x:x.str.contains('Data scientist').sum())\n",
    "\n",
    "DSbyGender= Country_grp['Gender'].apply (lambda x:x.str.contains('Woman').sum())\n",
    "DSbyGender\n",
    "\n",
    "#no. od Data scienties in each country\n",
    "DSbycountry.nlargest(5)\n",
    "\n",
    "#Question: How do I get the above 2 inner joined?\n",
    "#How can I have another column added below which has Gender and shows grouped values"
   ]
  },
  {
   "cell_type": "code",
   "execution_count": null,
   "id": "85873a14",
   "metadata": {},
   "outputs": [],
   "source": []
  }
 ],
 "metadata": {
  "kernelspec": {
   "display_name": "Python 3 (ipykernel)",
   "language": "python",
   "name": "python3"
  },
  "language_info": {
   "codemirror_mode": {
    "name": "ipython",
    "version": 3
   },
   "file_extension": ".py",
   "mimetype": "text/x-python",
   "name": "python",
   "nbconvert_exporter": "python",
   "pygments_lexer": "ipython3",
   "version": "3.9.12"
  }
 },
 "nbformat": 4,
 "nbformat_minor": 5
}
